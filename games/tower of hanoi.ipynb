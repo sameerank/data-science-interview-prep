{
 "cells": [
  {
   "cell_type": "code",
   "execution_count": 51,
   "metadata": {},
   "outputs": [],
   "source": [
    "from IPython.display import clear_output\n",
    "import time\n",
    "\n",
    "class TowersOfHanoi:\n",
    "    def __init__(self):\n",
    "        self.towers = [[3, 2, 1], [], []]\n",
    "        \n",
    "    def is_won(self):\n",
    "        return not self.towers[0] and any([not t for t in self.towers[1:]])\n",
    "        \n",
    "    def is_valid_move(self, from_tower, to_tower):\n",
    "        if not self.towers[from_tower]:\n",
    "            print('cannot move from an empty tower!')\n",
    "            return False\n",
    "        if not self.towers[to_tower]:\n",
    "            return True\n",
    "        if self.towers[from_tower][-1] > self.towers[to_tower][-1]:\n",
    "            print('cannot move onto smaller disk!')\n",
    "            return False\n",
    "        return True\n",
    "    \n",
    "    def move(self, from_tower, to_tower):\n",
    "        if not self.is_valid_move(from_tower, to_tower):\n",
    "            return\n",
    "        disc = self.towers[from_tower].pop()\n",
    "        self.towers[to_tower].append(disc)\n",
    "    \n",
    "    def render(self):\n",
    "        for idx, tower in enumerate(self.towers):\n",
    "            print(\"Tower {}: {}\".format(idx, tower))\n",
    "        \n",
    "    def play(self):\n",
    "        self.render()\n",
    "        while not self.is_won():\n",
    "            input_from = int(input('Disc from tower number: '))\n",
    "            input_to = int(input('Disc to tower number: '))\n",
    "            clear_output()\n",
    "            self.move(input_from, input_to)\n",
    "            self.render()\n",
    "        print(\"congrats, you won!\")"
   ]
  },
  {
   "cell_type": "code",
   "execution_count": 52,
   "metadata": {},
   "outputs": [
    {
     "name": "stdout",
     "output_type": "stream",
     "text": [
      "Tower 0: []\n",
      "Tower 1: [3, 2, 1]\n",
      "Tower 2: []\n",
      "congrats, you won!\n"
     ]
    }
   ],
   "source": [
    "tofh = TowersOfHanoi()\n",
    "tofh.play()"
   ]
  },
  {
   "cell_type": "code",
   "execution_count": null,
   "metadata": {},
   "outputs": [],
   "source": []
  }
 ],
 "metadata": {
  "kernelspec": {
   "display_name": "Python 3",
   "language": "python",
   "name": "python3"
  },
  "language_info": {
   "codemirror_mode": {
    "name": "ipython",
    "version": 3
   },
   "file_extension": ".py",
   "mimetype": "text/x-python",
   "name": "python",
   "nbconvert_exporter": "python",
   "pygments_lexer": "ipython3",
   "version": "3.5.4"
  }
 },
 "nbformat": 4,
 "nbformat_minor": 2
}
