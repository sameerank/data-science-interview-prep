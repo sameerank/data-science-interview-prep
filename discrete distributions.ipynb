{
 "cells": [
  {
   "cell_type": "markdown",
   "metadata": {},
   "source": [
    "# Random variables and expected values\n",
    "\n",
    "$X$ is a random variable and $x$ is the value that $X$ can take on. Let $p(x) = P(X=x)$.\n",
    "\n",
    "$$\\mu = E[x] = \\sum_{\\text{all }x} x p(x) $$\n",
    "$$E[f(x)] = \\sum_{\\text{all }x} f(x) p(x)$$\n",
    "$$\\sigma^{2} = E[(x-\\mu)^{2}] = \\sum_{\\text{all }x} (x-\\mu)^{2} p(x) = E[x^{2}] - (E[x])^{2}$$"
   ]
  },
  {
   "cell_type": "markdown",
   "metadata": {},
   "source": [
    "## Bernoulli distribution\n",
    "\n",
    "The probability mass function (PMF) is\n",
    "$$P(X=x) = p^{x}(1-p)^{1-x}$$\n",
    "\n",
    "where $X$ is a Bernoulli random variable, $x \\in \\{0, 1\\}$, $p$ is $P(\\text{success})$, and $1-p$ is $P(\\text{failure})$. The following distributions build on the assumption of independent Bernoulli trials: binomial, geometric, and negative binomial."
   ]
  },
  {
   "cell_type": "markdown",
   "metadata": {},
   "source": [
    "## Binomial distribution\n",
    "\n",
    "Describes the distribution of the number of successes $k$ in $n$ independent Bernoulli trials. The PMF is\n",
    "$$b(k, n, p) = {n\\choose k} p^{k}(1-p)^{n-k}$$\n",
    "The mean and variance of $X$ is\n",
    "$$\\mu = np$$\n",
    "$$\\sigma^{2} = np(1-p)$$\n",
    "If, on the other hand, we are interested in estimating the proportion $\\hat{p}$,\n",
    "$$\\hat{p} = k / n$$\n",
    "$$\\sigma_{\\hat{p}}^{2} = \\sqrt{\\frac{p(1-p)}{n}}$$"
   ]
  },
  {
   "cell_type": "markdown",
   "metadata": {},
   "source": [
    "## Negative binomial distribution\n",
    "\n",
    "Describes the distribution of the number of independent Bernoulli trials, $n$, needed to get the $k$th success. In order for the $k$th success to happen on the $n$th trial,\n",
    "\n",
    "1. The previous $n-1$ trials should have resulted in $k-1$ successes\n",
    "2. The $n$th trial must be a success with probability $p$\n",
    "\n",
    "The PMF $b^{*}(k, n, p)$ therefore is\n",
    "$$b^{*}(k, n, p) = p \\times b(k-1, n-1, p) \\\\\n",
    "= p {n-1\\choose k-1} p^{k-1} (1-p)^{(n-1)-(k-1)} \\\\\n",
    "= {n-1\\choose k-1} p^{k}(1-p)^{n-k}$$\n",
    "\n",
    "The mean number of trials needed and its variance use the equations below.\n",
    "$$\\mu = \\frac{k}{p}$$\n",
    "$$\\sigma^{2} = \\frac{k(1-p)}{p^{2}}$$\n"
   ]
  },
  {
   "cell_type": "markdown",
   "metadata": {},
   "source": [
    "## Geometric distribution\n",
    "\n",
    "Describes the distribution of the number of independent Bernoulli trials, $n$, needed to get the 1st success. The PMF $g(n,p)$ is equivalent to the negative binomial distribution's PMF when $k=1$.\n",
    "\n",
    "$$g(n, p)=p(1-p)^{n-1}$$\n",
    "\n",
    "The mean number of trials needed and its variance use the equations below.\n",
    "$$\\mu = \\frac{1}{p}$$\n",
    "$$\\sigma^{2} = \\frac{1-p}{p^{2}}$$\n",
    "\n",
    "\n"
   ]
  },
  {
   "cell_type": "markdown",
   "metadata": {},
   "source": [
    "## Poisson distribution\n",
    "\n",
    "A Poisson random variable is a count of a number of occurences of an event in a given unit of time, distance, area, or volume. These events occur randomly and independently. \n",
    "\n",
    "A Poisson probability is the probability of getting exactly $k$ successes when the average number of successes is $\\lambda$.\n",
    "\n",
    "$$P(k, \\lambda) = \\frac{\\lambda^{k}e^{-\\lambda}}{k!}$$\n",
    "\n",
    "- $e=2.71828$\n",
    "- $\\lambda$ is the average number of successes that occur in a specified region\n",
    "- k is the actual number of successes that occur in a specified region\n",
    "\n",
    "Let $X$ be a Poisson random variable. Then the following can be said about the expected value $E[X]$ and $Var(X)$.\n",
    "$$E[X] = \\mu = \\lambda$$\n",
    "$$Var(X) = \\sigma^{2} = \\lambda$$\n",
    "\n",
    "In this case, it's easy to find $E[X^{2}]$.\n",
    "$$E[X^{2}] = \\lambda + \\lambda^{2}$$\n",
    "\n",
    "#### The relationship between the Poisson distribution and the binomial distribution\n",
    "\n",
    "The binomial distribution tends towards the Poisson distribution as $n \\rightarrow \\infty$ and $p \\rightarrow 0$. In other words, $$\\lambda = np$$ when $n$ is large and $p$ is small. A rough guideline is that the Poisson approximation is reasonable if $np < 5$ and $n > 50$.\n"
   ]
  },
  {
   "cell_type": "markdown",
   "metadata": {},
   "source": [
    "## Hypergeometric distribution\n",
    "\n",
    "Describes the distribution of the number of successes $k$ and $n-k$ failures from randomly sampling $n$ objects without replacement from a $N$ population with $a$ successes (i.e. the trials are not independent). This \"without replacement\" aspect is what makes the distribution hypergeometric instead of binomial. The PMF for $X$, the number of successes in the sample, is\n",
    "\n",
    "$$H(k, a, n, N) = \\frac{{a \\choose k}{N-a \\choose n-k}}{{N \\choose n}}$$\n",
    "\n",
    "The mean number of successes for this distribution is\n",
    "\n",
    "$$\\mu = a \\frac{n}{N}$$\n",
    "\n",
    "The variance formula is a bit messy and I really hope that my interviewers don't expect me to have this memorized.\n",
    "\n",
    "$$\\sigma^{2} = n \\frac{a}{N}\\frac{N-a}{N}\\frac{N-n}{N-1}$$\n"
   ]
  },
  {
   "cell_type": "code",
   "execution_count": null,
   "metadata": {},
   "outputs": [],
   "source": []
  }
 ],
 "metadata": {
  "kernelspec": {
   "display_name": "Python 3",
   "language": "python",
   "name": "python3"
  },
  "language_info": {
   "codemirror_mode": {
    "name": "ipython",
    "version": 3
   },
   "file_extension": ".py",
   "mimetype": "text/x-python",
   "name": "python",
   "nbconvert_exporter": "python",
   "pygments_lexer": "ipython3",
   "version": "3.5.4"
  }
 },
 "nbformat": 4,
 "nbformat_minor": 2
}
