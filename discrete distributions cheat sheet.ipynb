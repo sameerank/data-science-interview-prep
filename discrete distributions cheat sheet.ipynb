{
 "cells": [
  {
   "cell_type": "markdown",
   "metadata": {},
   "source": [
    "# Some discrete distributions\n",
    "_Definitions and descriptions_"
   ]
  },
  {
   "cell_type": "markdown",
   "metadata": {},
   "source": [
    "## Bernoulli distribution\n",
    "\n",
    "The probability mass function (PMF) is\n",
    "$$P(X=x) = p^{x}(1-p)^{1-x}$$\n",
    "\n",
    "where $X$ is a Bernoulli random variable, $x$ is a value that $X$ can take on, i.e. $x \\in \\{0, 1\\}$, $p$ is $P(\\text{success})$, and $1-p$ is $P(\\text{failure})$. The following distributions build on the assumption of independent Bernoulli trials: binomial, geometric, and negative binomial."
   ]
  },
  {
   "cell_type": "markdown",
   "metadata": {},
   "source": [
    "## Binomial distribution\n",
    "\n",
    "The PMF is\n",
    "$$P(X=k) = {n\\choose k} p^{k}(1-p)^{n-k}$$\n",
    "The mean and variance of $X$ is\n",
    "$$\\mu = \\frac{p}{n}$$\n",
    "$$\\sigma^{2} = np(1-p)$$\n",
    "If, on the other hand, we are interested in estimating the proportion $\\hat{p}$,\n",
    "$$\\hat{p} = k/n$$\n",
    "$$\\sigma_{\\hat{p}}^{2} = \\sqrt{\\frac{p(1-p)}{n}}$$"
   ]
  },
  {
   "cell_type": "code",
   "execution_count": null,
   "metadata": {},
   "outputs": [],
   "source": []
  }
 ],
 "metadata": {
  "kernelspec": {
   "display_name": "Python 3",
   "language": "python",
   "name": "python3"
  },
  "language_info": {
   "codemirror_mode": {
    "name": "ipython",
    "version": 3
   },
   "file_extension": ".py",
   "mimetype": "text/x-python",
   "name": "python",
   "nbconvert_exporter": "python",
   "pygments_lexer": "ipython3",
   "version": "3.5.4"
  }
 },
 "nbformat": 4,
 "nbformat_minor": 2
}
