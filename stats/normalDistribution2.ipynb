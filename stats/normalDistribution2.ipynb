{
 "cells": [
  {
   "cell_type": "code",
   "execution_count": 2,
   "metadata": {},
   "outputs": [],
   "source": [
    "import math\n",
    "\n",
    "class Normal:\n",
    "    def __init__(self, mean, std_dev):\n",
    "        self.mean = mean\n",
    "        self.std_dev = std_dev\n",
    "        \n",
    "    def cdf(self, x):\n",
    "        return (1/2)*(1 + math.erf((x - self.mean) / (self.std_dev * (2**0.5))))"
   ]
  },
  {
   "cell_type": "code",
   "execution_count": null,
   "metadata": {},
   "outputs": [],
   "source": [
    "mu, sd = tuple(map(int, input().split()))\n",
    "q1 = float(input())\n",
    "q2 = float(input())\n",
    "q3 = q2\n",
    "\n",
    "norm_dist = Normal(mu, sd)\n",
    "print(round(100*(1 - norm_dist.cdf(q1)), 2))\n",
    "print(round(100*(1 - norm_dist.cdf(q2)), 2))\n",
    "print(round(100 * (norm_dist.cdf(q3)), 2))"
   ]
  }
 ],
 "metadata": {
  "kernelspec": {
   "display_name": "Python 3",
   "language": "python",
   "name": "python3"
  },
  "language_info": {
   "codemirror_mode": {
    "name": "ipython",
    "version": 3
   },
   "file_extension": ".py",
   "mimetype": "text/x-python",
   "name": "python",
   "nbconvert_exporter": "python",
   "pygments_lexer": "ipython3",
   "version": "3.5.4"
  }
 },
 "nbformat": 4,
 "nbformat_minor": 2
}
