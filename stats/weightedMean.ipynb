{
 "cells": [
  {
   "cell_type": "markdown",
   "metadata": {},
   "source": [
    "The weighted mean is\n",
    "$$m_{w} = \\frac{\\sum_{N-1}^{i=0}(x_{i} \\times w_{i})}{\\sum_{N-1}^{i=0} w_{i}}$$"
   ]
  },
  {
   "cell_type": "code",
   "execution_count": 3,
   "metadata": {},
   "outputs": [],
   "source": [
    "def weighted_mean(N, Xs, Ws):\n",
    "    weighted_sum = 0\n",
    "    weight_sum = 0\n",
    "    for i in range(N):\n",
    "        weighted_sum += Xs[i] * Ws[i]\n",
    "        weight_sum += Ws[i]\n",
    "    return weighted_sum / weight_sum"
   ]
  },
  {
   "cell_type": "code",
   "execution_count": 5,
   "metadata": {},
   "outputs": [
    {
     "name": "stderr",
     "output_type": "stream",
     "text": [
      ".\n",
      "----------------------------------------------------------------------\n",
      "Ran 1 test in 0.001s\n",
      "\n",
      "OK\n"
     ]
    }
   ],
   "source": [
    "import unittest\n",
    "\n",
    "class TestWeightedMean(unittest.TestCase):\n",
    "    def setUp(self):\n",
    "        self.N = 5\n",
    "        self.Xs = [10, 40, 30, 50, 20]\n",
    "        self.Ws = [1, 2, 3, 4, 5]\n",
    "    \n",
    "    def test_weighted_mean(self):\n",
    "        res = weighted_mean(self.N, self.Xs, self.Ws)\n",
    "        self.assertEqual(res, 32)\n",
    "\n",
    "if __name__ == '__main__':\n",
    "    unittest.main(argv=['Ignore first argument'], exit=False)"
   ]
  },
  {
   "cell_type": "code",
   "execution_count": null,
   "metadata": {},
   "outputs": [],
   "source": []
  }
 ],
 "metadata": {
  "kernelspec": {
   "display_name": "Python 3",
   "language": "python",
   "name": "python3"
  },
  "language_info": {
   "codemirror_mode": {
    "name": "ipython",
    "version": 3
   },
   "file_extension": ".py",
   "mimetype": "text/x-python",
   "name": "python",
   "nbconvert_exporter": "python",
   "pygments_lexer": "ipython3",
   "version": "3.5.4"
  }
 },
 "nbformat": 4,
 "nbformat_minor": 2
}
