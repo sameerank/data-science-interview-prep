{
 "cells": [
  {
   "cell_type": "code",
   "execution_count": 27,
   "metadata": {},
   "outputs": [],
   "source": [
    "def factorial(num):\n",
    "    res = 1\n",
    "    while num > 0:\n",
    "        res *= num\n",
    "        num -= 1\n",
    "    return res\n",
    "\n",
    "def n_choose_k(n, k):\n",
    "    return factorial(n) / (factorial(n - k) * factorial(k))\n",
    "\n",
    "def binomial(x, n, p):\n",
    "    return n_choose_k(n, x) * (p**x) * ((1 - p)**(n - x))\n",
    "\n",
    "def negative_binomial(x, n, p):\n",
    "    return binomial(x - 1, n - 1, p) * p\n",
    "\n",
    "# p * (1-p)^(n-1)\n",
    "def geometric(n, p):\n",
    "    return round(negative_binomial(1, n, p), 3)\n",
    "\n",
    "def proba_at_least_one_success_n_trials(n, p):\n",
    "    return round(sum([geometric(n_ + 1, 1/3) for n_ in range(n)]), 3)"
   ]
  },
  {
   "cell_type": "code",
   "execution_count": 28,
   "metadata": {},
   "outputs": [],
   "source": [
    "assert geometric(5, 1/3) == 0.066"
   ]
  },
  {
   "cell_type": "code",
   "execution_count": 35,
   "metadata": {},
   "outputs": [],
   "source": [
    "assert proba_at_least_one_success_n_trials(5, 1/3) == 0.868"
   ]
  },
  {
   "cell_type": "markdown",
   "metadata": {},
   "source": [
    "There's also another easier way to do `proba_at_least_one_success_n_trials`. $(1 - p)^{n}$ is the probability of not having any success in the first $n$ trails. The probability therefore of a success happening the first $n$ is $1-(1-p^{n})$. This doesn't use the geometric distribution concept though."
   ]
  },
  {
   "cell_type": "code",
   "execution_count": 36,
   "metadata": {},
   "outputs": [],
   "source": [
    "def quick_proba_at_least_one_success_n_trials(n, p):\n",
    "    return round(1 - (1 - p)**n, 3)\n",
    "\n",
    "assert quick_proba_at_least_one_success_n_trials(5, 1/3) == 0.868"
   ]
  },
  {
   "cell_type": "code",
   "execution_count": null,
   "metadata": {},
   "outputs": [],
   "source": []
  }
 ],
 "metadata": {
  "kernelspec": {
   "display_name": "Python 3",
   "language": "python",
   "name": "python3"
  },
  "language_info": {
   "codemirror_mode": {
    "name": "ipython",
    "version": 3
   },
   "file_extension": ".py",
   "mimetype": "text/x-python",
   "name": "python",
   "nbconvert_exporter": "python",
   "pygments_lexer": "ipython3",
   "version": "3.5.4"
  }
 },
 "nbformat": 4,
 "nbformat_minor": 2
}
