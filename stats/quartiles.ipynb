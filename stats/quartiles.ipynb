{
 "cells": [
  {
   "cell_type": "code",
   "execution_count": 10,
   "metadata": {},
   "outputs": [],
   "source": [
    "def quicksort(array):\n",
    "    if len(array) <= 1:\n",
    "        return array\n",
    "    pivot = array[-1]\n",
    "    left, right = [], []\n",
    "    for val in array[:-1]:\n",
    "        if val < pivot:\n",
    "            left.append(val)\n",
    "        else:\n",
    "            right.append(val)\n",
    "    return quicksort(left) + [pivot] + quicksort(right)\n",
    "\n",
    "def get_median(array):\n",
    "    sorted_array = quicksort(array)\n",
    "    middle_idx = len(sorted_array) // 2\n",
    "    if len(sorted_array) % 2 == 1:\n",
    "        return sorted_array[middle_idx]\n",
    "    return int((sorted_array[middle_idx - 1] + sorted_array[middle_idx]) / 2)\n",
    "\n",
    "def quartiles(array):\n",
    "    sorted_array = quicksort(array)\n",
    "    fifty = get_median(sorted_array)\n",
    "    middle_idx = len(sorted_array) // 2\n",
    "    left, right = sorted_array[:middle_idx], sorted_array[-middle_idx:]\n",
    "    twenty_five = get_median(left)\n",
    "    seventy_five = get_median(right)\n",
    "    return twenty_five, fifty, seventy_five\n",
    "        "
   ]
  },
  {
   "cell_type": "code",
   "execution_count": 11,
   "metadata": {},
   "outputs": [
    {
     "data": {
      "text/plain": [
       "(6.0, 12, 16.0)"
      ]
     },
     "execution_count": 11,
     "metadata": {},
     "output_type": "execute_result"
    }
   ],
   "source": [
    "array = [3, 7, 8, 5, 12, 14, 21, 13, 18]\n",
    "quartiles(array)"
   ]
  },
  {
   "cell_type": "code",
   "execution_count": 8,
   "metadata": {},
   "outputs": [
    {
     "data": {
      "text/plain": [
       "[1, 2, 3]"
      ]
     },
     "execution_count": 8,
     "metadata": {},
     "output_type": "execute_result"
    }
   ],
   "source": [
    "import unittest\n",
    "\n",
    "class TestQuartiles(unittest.TestCase):\n",
    "    def setUp(self):\n",
    "        self.numbers = [3, 7, 8, 5, 12, 14, 21, 13, 18]\n",
    "    \n",
    "    def test_quartiles(self):\n",
    "        q_25,"
   ]
  },
  {
   "cell_type": "code",
   "execution_count": null,
   "metadata": {},
   "outputs": [],
   "source": []
  }
 ],
 "metadata": {
  "kernelspec": {
   "display_name": "Python 3",
   "language": "python",
   "name": "python3"
  },
  "language_info": {
   "codemirror_mode": {
    "name": "ipython",
    "version": 3
   },
   "file_extension": ".py",
   "mimetype": "text/x-python",
   "name": "python",
   "nbconvert_exporter": "python",
   "pygments_lexer": "ipython3",
   "version": "3.5.4"
  }
 },
 "nbformat": 4,
 "nbformat_minor": 2
}
