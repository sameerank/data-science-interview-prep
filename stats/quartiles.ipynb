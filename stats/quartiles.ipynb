{
 "cells": [
  {
   "cell_type": "markdown",
   "metadata": {},
   "source": [
    "## Quartiles"
   ]
  },
  {
   "cell_type": "code",
   "execution_count": 23,
   "metadata": {},
   "outputs": [],
   "source": [
    "def quicksort(array):\n",
    "    if len(array) <= 1:\n",
    "        return array\n",
    "    pivot = array[-1]\n",
    "    left, right = [], []\n",
    "    for val in array[:-1]:\n",
    "        if val < pivot:\n",
    "            left.append(val)\n",
    "        else:\n",
    "            right.append(val)\n",
    "    return quicksort(left) + [pivot] + quicksort(right)\n",
    "\n",
    "def get_median(array):\n",
    "    sorted_array = quicksort(array)\n",
    "    middle_idx = len(sorted_array) // 2\n",
    "    if len(sorted_array) % 2 == 1:\n",
    "        return float(sorted_array[middle_idx])\n",
    "    return (sorted_array[middle_idx - 1] + sorted_array[middle_idx]) / 2\n",
    "\n",
    "def quartiles(array):\n",
    "    sorted_array = quicksort(array)\n",
    "    fifty = get_median(sorted_array)\n",
    "    middle_idx = len(sorted_array) // 2\n",
    "    left, right = sorted_array[:middle_idx], sorted_array[-middle_idx:]\n",
    "    twenty_five = get_median(left)\n",
    "    seventy_five = get_median(right)\n",
    "    return twenty_five, fifty, seventy_five\n",
    "\n",
    "def interquartile_range(array, freqs):\n",
    "    full_array = []\n",
    "    for idx, val in enumerate(array):\n",
    "        full_array += [val] * freqs[idx]\n",
    "    q_25, q_50, q_75 = quartiles(full_array)\n",
    "    return round(q_75 - q_25, 1)"
   ]
  },
  {
   "cell_type": "code",
   "execution_count": 24,
   "metadata": {},
   "outputs": [
    {
     "name": "stderr",
     "output_type": "stream",
     "text": [
      "..\n",
      "----------------------------------------------------------------------\n",
      "Ran 2 tests in 0.003s\n",
      "\n",
      "OK\n"
     ]
    }
   ],
   "source": [
    "import unittest\n",
    "\n",
    "class TestQuartiles(unittest.TestCase):\n",
    "    def setUp(self):\n",
    "        self.numbers1 = [3, 7, 8, 5, 12, 14, 21, 13, 18]\n",
    "        self.numbers2 = [6, 12, 8, 10, 20, 16]\n",
    "        self.freqs = [5, 4, 3, 2, 1, 5]\n",
    "    \n",
    "    def test_quartiles(self):\n",
    "        q_25, q_50, q_75 = quartiles(self.numbers1)\n",
    "        self.assertEqual(q_25, 6)\n",
    "        self.assertEqual(q_50, 12)\n",
    "        self.assertEqual(q_75, 16)\n",
    "\n",
    "    def test_interquartile(self):\n",
    "        self.assertEqual(interquartile_range(self.numbers2, self.freqs), 9)\n",
    "\n",
    "if __name__ == '__main__':\n",
    "    unittest.main(argv=['Ignore first argument'], exit=False)"
   ]
  },
  {
   "cell_type": "code",
   "execution_count": null,
   "metadata": {},
   "outputs": [],
   "source": []
  }
 ],
 "metadata": {
  "kernelspec": {
   "display_name": "Python 3",
   "language": "python",
   "name": "python3"
  },
  "language_info": {
   "codemirror_mode": {
    "name": "ipython",
    "version": 3
   },
   "file_extension": ".py",
   "mimetype": "text/x-python",
   "name": "python",
   "nbconvert_exporter": "python",
   "pygments_lexer": "ipython3",
   "version": "3.5.4"
  }
 },
 "nbformat": 4,
 "nbformat_minor": 2
}
