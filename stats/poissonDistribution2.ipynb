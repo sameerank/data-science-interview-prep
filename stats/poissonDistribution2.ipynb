{
 "cells": [
  {
   "cell_type": "markdown",
   "metadata": {},
   "source": [
    "The expected value on a poisson distribution is\n",
    "\n",
    "$$E[X] = \\lambda$$\n",
    "\n",
    "$$Var(X)= \\lambda$$\n",
    "\n",
    "Also,\n",
    "$$Var(X) = E[X^{2}] - (E[X])^{2}$$\n",
    "$$\\Rightarrow E[X^{2}] = Var(X) + (E[X])^{2}$$\n",
    "$$\\Rightarrow E[X^{2}] = \\lambda + \\lambda^{2}$$"
   ]
  },
  {
   "cell_type": "code",
   "execution_count": 11,
   "metadata": {},
   "outputs": [
    {
     "name": "stdout",
     "output_type": "stream",
     "text": [
      "0.88 1.55\n",
      "226.176\n",
      "286.1\n"
     ]
    }
   ],
   "source": [
    "# 0.88 1.55\n",
    "input_ = input() or \"0.88 1.55\"\n",
    "numbers = list(map(float, input_.split()))\n",
    "\n",
    "C = {\n",
    "    'A': lambda X_sqrd: 160 + (40*(X_sqrd)),\n",
    "    'B': lambda Y_sqrd: 128 + (40*(Y_sqrd))\n",
    "}\n",
    "\n",
    "def daily_cost_of_machine(lambda_, cost_fxn):\n",
    "    expected_sqrd = lambda_ + (lambda_**2)\n",
    "    return cost_fxn(expected_sqrd)\n",
    "\n",
    "print(daily_cost_of_machine(numbers[0], C['A']))\n",
    "print(daily_cost_of_machine(numbers[1], C['B']))"
   ]
  },
  {
   "cell_type": "code",
   "execution_count": 7,
   "metadata": {},
   "outputs": [],
   "source": [
    "assert daily_cost_of_machine(0.88, C['A']) == 226.176\n",
    "assert daily_cost_of_machine(1.55, C['B']) == 286.1"
   ]
  }
 ],
 "metadata": {
  "kernelspec": {
   "display_name": "Python 3",
   "language": "python",
   "name": "python3"
  },
  "language_info": {
   "codemirror_mode": {
    "name": "ipython",
    "version": 3
   },
   "file_extension": ".py",
   "mimetype": "text/x-python",
   "name": "python",
   "nbconvert_exporter": "python",
   "pygments_lexer": "ipython3",
   "version": "3.5.4"
  }
 },
 "nbformat": 4,
 "nbformat_minor": 2
}
