{
 "cells": [
  {
   "cell_type": "code",
   "execution_count": 2,
   "metadata": {},
   "outputs": [],
   "source": [
    "import math\n",
    "\n",
    "def standard_normal_distribution(x):\n",
    "    return math.exp(-(x**2)/2) / (2 * math.pi)**0.5\n",
    "\n",
    "def normal_distribution(x, mean, var):\n",
    "    sd = var**0.5\n",
    "    return (1 / sd) * standard_normal_distribution((x - mean) / sd)\n",
    "\n",
    "def cdf(x, mean, sd):\n",
    "    return (1/2)*(1 + math.erf((x - mean) / (sd * (2**0.5))))"
   ]
  },
  {
   "cell_type": "code",
   "execution_count": 8,
   "metadata": {},
   "outputs": [
    {
     "name": "stdout",
     "output_type": "stream",
     "text": [
      "20 2\n",
      "19.5\n",
      "20 22\n",
      "0.4012936743170763\n",
      "0.34134474606854304\n"
     ]
    }
   ],
   "source": [
    "mu, st_dev = tuple(map(int, input().split()))\n",
    "m = float(input())\n",
    "x_min_hrs, x_max_hrs = tuple(map(int, input().split()))\n",
    "print(cdf(x_hrs, mu, st_dev))\n",
    "print(cdf(x_max_hrs, mu, st_dev) - cdf(x_min_hrs, mu, st_dev))"
   ]
  },
  {
   "cell_type": "code",
   "execution_count": null,
   "metadata": {},
   "outputs": [],
   "source": []
  }
 ],
 "metadata": {
  "kernelspec": {
   "display_name": "Python 3",
   "language": "python",
   "name": "python3"
  },
  "language_info": {
   "codemirror_mode": {
    "name": "ipython",
    "version": 3
   },
   "file_extension": ".py",
   "mimetype": "text/x-python",
   "name": "python",
   "nbconvert_exporter": "python",
   "pygments_lexer": "ipython3",
   "version": "3.5.4"
  }
 },
 "nbformat": 4,
 "nbformat_minor": 2
}
