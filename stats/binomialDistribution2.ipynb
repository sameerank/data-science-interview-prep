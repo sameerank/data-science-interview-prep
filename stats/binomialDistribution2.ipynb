{
 "cells": [
  {
   "cell_type": "markdown",
   "metadata": {},
   "source": [
    "# Binomial Distribution II"
   ]
  },
  {
   "cell_type": "code",
   "execution_count": 9,
   "metadata": {},
   "outputs": [],
   "source": [
    "def factorial(num):\n",
    "    res = 1\n",
    "    while num > 0:\n",
    "        res *= num\n",
    "        num -= 1\n",
    "    return res\n",
    "\n",
    "def n_choose_k(n, k):\n",
    "    return factorial(n) / (factorial(n - k) * factorial(k))\n",
    "\n",
    "def binomial(x, n, p):\n",
    "    return n_choose_k(n, x) * (p**x) * ((1-p)**(n-x))\n",
    "\n",
    "def at_least(at_least_x, n, p):\n",
    "    proba = 0\n",
    "    while at_least_x <= n:\n",
    "        proba += binomial(at_least_x, n, p)\n",
    "        at_least_x += 1\n",
    "    return proba\n",
    "\n",
    "def at_most(at_most_x, n, p):\n",
    "    proba = 0\n",
    "    while at_most_x >= 0:\n",
    "        proba += binomial(at_most_x, n, p)\n",
    "        at_most_x -= 1\n",
    "    return proba\n",
    "\n",
    "def piston_proba(fxn, rejects_arg, percentage_defective, num_of_curr_batch):\n",
    "    p = percentage_defective / 100\n",
    "    return round(fxn(rejects_arg, num_of_curr_batch, p), 3)"
   ]
  },
  {
   "cell_type": "code",
   "execution_count": 14,
   "metadata": {},
   "outputs": [],
   "source": [
    "assert piston_proba(at_most, 2, 12, 10) == 0.891\n",
    "assert piston_proba(at_least, 2, 12, 10) == 0.342"
   ]
  }
 ],
 "metadata": {
  "kernelspec": {
   "display_name": "Python 3",
   "language": "python",
   "name": "python3"
  },
  "language_info": {
   "codemirror_mode": {
    "name": "ipython",
    "version": 3
   },
   "file_extension": ".py",
   "mimetype": "text/x-python",
   "name": "python",
   "nbconvert_exporter": "python",
   "pygments_lexer": "ipython3",
   "version": "3.5.4"
  }
 },
 "nbformat": 4,
 "nbformat_minor": 2
}
