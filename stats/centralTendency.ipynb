{
 "cells": [
  {
   "cell_type": "markdown",
   "metadata": {},
   "source": [
    "## Central tendency\n",
    "\n",
    "Can be measured with a mean, median, or mode. I'm going to assume that I don't have access to any libraries/packages when I write the functions to do this."
   ]
  },
  {
   "cell_type": "code",
   "execution_count": 28,
   "metadata": {},
   "outputs": [],
   "source": [
    "class CentralTendency:\n",
    "    def __init__(self, numbers, size=None):\n",
    "        self.numbers = numbers\n",
    "        self.size = len(numbers) if size is None else size\n",
    "    \n",
    "    @classmethod\n",
    "    def quicksort(cls, array):\n",
    "        if len(array) <= 1:\n",
    "            return array\n",
    "        pivot = array[-1]\n",
    "        left, right = [], []\n",
    "        for n in array[:-1]:\n",
    "            if n < pivot:\n",
    "                left.append(n)\n",
    "            else:\n",
    "                right.append(n)\n",
    "        return cls.quicksort(left) + [pivot] + cls.quicksort(right)\n",
    "\n",
    "    def mean(self):\n",
    "        sum_ = 0\n",
    "        for n in self.numbers:\n",
    "            sum_ += n\n",
    "        return sum_ / self.size\n",
    "\n",
    "    def median(self):\n",
    "        if self.size == 0:\n",
    "            return None\n",
    "        sorted_nums = CentralTendency.quicksort(self.numbers)\n",
    "        middle_idx = (self.size - 1) // 2\n",
    "        if self.size % 2 == 1:\n",
    "            return sorted_nums[middle_idx]\n",
    "        return (sorted_nums[middle_idx] + sorted_nums[middle_idx + 1]) / 2\n",
    "\n",
    "    def mode(self):\n",
    "        counter = {}\n",
    "        for n in self.numbers:\n",
    "            try:\n",
    "                counter[n] += 1\n",
    "            except KeyError:\n",
    "                counter[n] = 1\n",
    "        return max(sorted(counter.items()), key=lambda tuple_: tuple_[1])[0]"
   ]
  },
  {
   "cell_type": "code",
   "execution_count": 29,
   "metadata": {},
   "outputs": [
    {
     "name": "stderr",
     "output_type": "stream",
     "text": [
      "...\n",
      "----------------------------------------------------------------------\n",
      "Ran 3 tests in 0.004s\n",
      "\n",
      "OK\n"
     ]
    }
   ],
   "source": [
    "import unittest\n",
    "import numpy as np\n",
    "from scipy import stats\n",
    "\n",
    "class TestCentralTendency(unittest.TestCase):\n",
    "    def setUp(self):\n",
    "        self.numbers = [2, 5, 7, 1, 3, 4, 7]\n",
    "        self.ct = CentralTendency(self.numbers)\n",
    "    \n",
    "    def test_mean(self):\n",
    "        self.assertEqual(self.ct.mean(), np.mean(self.numbers))\n",
    "\n",
    "    def test_median(self):\n",
    "        self.assertEqual(self.ct.median(), np.median(self.numbers))\n",
    "\n",
    "    def test_mode(self):\n",
    "        self.assertEqual(self.ct.mode(), int(stats.mode(self.numbers)[0]))\n",
    "\n",
    "if __name__ == '__main__':\n",
    "    unittest.main(argv=['Ignore first argument'], exit=False)"
   ]
  }
 ],
 "metadata": {
  "kernelspec": {
   "display_name": "Python 3",
   "language": "python",
   "name": "python3"
  },
  "language_info": {
   "codemirror_mode": {
    "name": "ipython",
    "version": 3
   },
   "file_extension": ".py",
   "mimetype": "text/x-python",
   "name": "python",
   "nbconvert_exporter": "python",
   "pygments_lexer": "ipython3",
   "version": "3.5.4"
  }
 },
 "nbformat": 4,
 "nbformat_minor": 2
}
