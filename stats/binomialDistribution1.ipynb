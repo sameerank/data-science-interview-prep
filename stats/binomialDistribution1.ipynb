{
 "cells": [
  {
   "cell_type": "code",
   "execution_count": 1,
   "metadata": {},
   "outputs": [],
   "source": []
  },
  {
   "cell_type": "code",
   "execution_count": 20,
   "metadata": {},
   "outputs": [],
   "source": [
    "def factorial(num):\n",
    "    res = 1\n",
    "    while num > 0:\n",
    "        res *= num\n",
    "        num -= 1\n",
    "    return res\n",
    "\n",
    "def n_choose_k(n, k):\n",
    "    return factorial(n) / (factorial(n - k) * factorial(k))\n",
    "\n",
    "def binomial(x, n, p):\n",
    "    return n_choose_k(n, x) * (p**x) * ((1-p)**(n-x))\n",
    "\n",
    "def at_least(at_least_x, n, p):\n",
    "    proba = 0\n",
    "    while at_least_x <= n:\n",
    "        proba += binomial(at_least_x, n, p)\n",
    "        at_least_x += 1\n",
    "    return proba\n",
    "\n",
    "def russian_proba(boys_proba, girls_proba):\n",
    "    russian_p = boys_proba / (boys_proba + girls_proba)\n",
    "    num_children = 6\n",
    "    min_boys = 3\n",
    "    return round(at_least(min_boys, num_children, russian_p), 3)"
   ]
  },
  {
   "cell_type": "code",
   "execution_count": 21,
   "metadata": {},
   "outputs": [
    {
     "data": {
      "text/plain": [
       "0.696"
      ]
     },
     "execution_count": 21,
     "metadata": {},
     "output_type": "execute_result"
    }
   ],
   "source": [
    "russian_proba(1.09, 1)"
   ]
  },
  {
   "cell_type": "code",
   "execution_count": 8,
   "metadata": {},
   "outputs": [
    {
     "data": {
      "text/plain": [
       "120"
      ]
     },
     "execution_count": 8,
     "metadata": {},
     "output_type": "execute_result"
    }
   ],
   "source": []
  },
  {
   "cell_type": "code",
   "execution_count": null,
   "metadata": {},
   "outputs": [],
   "source": []
  }
 ],
 "metadata": {
  "kernelspec": {
   "display_name": "Python 3",
   "language": "python",
   "name": "python3"
  },
  "language_info": {
   "codemirror_mode": {
    "name": "ipython",
    "version": 3
   },
   "file_extension": ".py",
   "mimetype": "text/x-python",
   "name": "python",
   "nbconvert_exporter": "python",
   "pygments_lexer": "ipython3",
   "version": "3.5.4"
  }
 },
 "nbformat": 4,
 "nbformat_minor": 2
}
