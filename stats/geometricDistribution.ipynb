{
 "cells": [
  {
   "cell_type": "markdown",
   "metadata": {},
   "source": [
    "First, let's start with the negative binomial. Unlike the binomial distribution which is the probability of getting $x$ successes in a fixed number of $n$ trials, the negative binomial is the probability that a fixed $x$th success will happen on the $n$th trial. So $P(n)$, which is related to the binomial according to $b(x - 1, n - 1, p) p$, has the following probability mass function.\n",
    "\n",
    "$$b^{*}\\left(x, n, p\\right) = {n-1 \\choose x-1} p^{x} \\left(1 - p\\right)^{n - x}$$\n",
    "\n",
    "The distribution for the probability that the xth success happens on the nth trial can be described with $\\mu = \\frac{x}{p}$ and $\\sigma = \\frac{x(1-p)}{p^{2}}$\n",
    "\n",
    "The geometric is a case of the negative binomial where the number of successes $x$ is 1.\n",
    "\n",
    "$$g\\left(n, p\\right) = p \\left(1 - p\\right)^{n - 1}$$"
   ]
  },
  {
   "cell_type": "code",
   "execution_count": null,
   "metadata": {},
   "outputs": [],
   "source": [
    "def factorial(num):\n",
    "    res = 1\n",
    "    while num > 0:\n",
    "        res *= num\n",
    "        num -= 1\n",
    "    return res\n",
    "\n",
    "def n_choose_k(n, k):\n",
    "    return factorial(n) / (factorial(n - k) * factorial(k))\n",
    "\n",
    "def negative_binomial(x, n, p):\n",
    "    return n_choose_k(n - 1, x - 1) * (p**x) * ((1 - p)**(n - x))\n",
    "\n",
    "# p * (1-p)^(n-1)\n",
    "def geometric(n, p):\n",
    "    return negative_binomial(1, n, p)"
   ]
  }
 ],
 "metadata": {
  "kernelspec": {
   "display_name": "Python 3",
   "language": "python",
   "name": "python3"
  },
  "language_info": {
   "codemirror_mode": {
    "name": "ipython",
    "version": 3
   },
   "file_extension": ".py",
   "mimetype": "text/x-python",
   "name": "python",
   "nbconvert_exporter": "python",
   "pygments_lexer": "ipython3",
   "version": "3.5.4"
  }
 },
 "nbformat": 4,
 "nbformat_minor": 2
}
