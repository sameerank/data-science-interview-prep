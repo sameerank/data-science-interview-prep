{
 "cells": [
  {
   "cell_type": "markdown",
   "metadata": {},
   "source": [
    "## Standard Deviation\n",
    "\n",
    "First, we need the mean\n",
    "\n",
    "$$\\mu = \\frac{\\sum_{i=0}^{N-1}x_{i}}{N}$$\n",
    "\n",
    "Then, we can calculate the standard deviation\n",
    "\n",
    "$$\\sigma = \\sqrt{\\frac{\\sum_{i=0}^{N-1}(x_{i}-\\mu)^{2}}{N}}$$"
   ]
  },
  {
   "cell_type": "code",
   "execution_count": 5,
   "metadata": {},
   "outputs": [],
   "source": [
    "def mean(array):\n",
    "    sum_ = 0\n",
    "    for val in array:\n",
    "        sum_ += val\n",
    "    return sum_ / len(array)\n",
    "\n",
    "def stdev(array):\n",
    "    mu = mean(array)\n",
    "    squared_residuals = 0\n",
    "    for val in array:\n",
    "        squared_residuals += (val - mu)**2\n",
    "    return round((squared_residuals / len(array))**0.5, 1)"
   ]
  },
  {
   "cell_type": "code",
   "execution_count": 7,
   "metadata": {},
   "outputs": [
    {
     "name": "stderr",
     "output_type": "stream",
     "text": [
      ".\n",
      "----------------------------------------------------------------------\n",
      "Ran 1 test in 0.003s\n",
      "\n",
      "OK\n"
     ]
    }
   ],
   "source": [
    "import unittest\n",
    "\n",
    "class TestStandardDeviation(unittest.TestCase):\n",
    "    def setUp(self):\n",
    "        self.numbers = [10, 40, 30, 50, 20]\n",
    "    \n",
    "    def test_standard_deviation(self):\n",
    "        self.assertEqual(stdev(self.numbers), 14.1)\n",
    "\n",
    "if __name__ == '__main__':\n",
    "    unittest.main(argv=['Ignore first argument'], exit=False)"
   ]
  },
  {
   "cell_type": "code",
   "execution_count": null,
   "metadata": {},
   "outputs": [],
   "source": []
  }
 ],
 "metadata": {
  "kernelspec": {
   "display_name": "Python 3",
   "language": "python",
   "name": "python3"
  },
  "language_info": {
   "codemirror_mode": {
    "name": "ipython",
    "version": 3
   },
   "file_extension": ".py",
   "mimetype": "text/x-python",
   "name": "python",
   "nbconvert_exporter": "python",
   "pygments_lexer": "ipython3",
   "version": "3.5.4"
  }
 },
 "nbformat": 4,
 "nbformat_minor": 2
}
