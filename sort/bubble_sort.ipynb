{
 "cells": [
  {
   "cell_type": "code",
   "execution_count": 10,
   "metadata": {},
   "outputs": [],
   "source": [
    "def bubble_sort(array):\n",
    "    sorted_ = False\n",
    "    while not sorted_:\n",
    "        sorted_ = True\n",
    "        for i in range(len(array) - 1):\n",
    "            if array[i] > array[i+1]:\n",
    "                array[i+1], array[i] = array[i], array[i+1]\n",
    "                sorted_ = False\n",
    "    return array\n",
    "\n",
    "assert bubble_sort([4, 2, 9, 1]) == [1, 2, 4, 9]"
   ]
  },
  {
   "cell_type": "code",
   "execution_count": null,
   "metadata": {},
   "outputs": [],
   "source": []
  }
 ],
 "metadata": {
  "kernelspec": {
   "display_name": "Python 3",
   "language": "python",
   "name": "python3"
  },
  "language_info": {
   "codemirror_mode": {
    "name": "ipython",
    "version": 3
   },
   "file_extension": ".py",
   "mimetype": "text/x-python",
   "name": "python",
   "nbconvert_exporter": "python",
   "pygments_lexer": "ipython3",
   "version": "3.5.4"
  }
 },
 "nbformat": 4,
 "nbformat_minor": 2
}
