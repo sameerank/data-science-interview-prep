{
 "cells": [
  {
   "cell_type": "code",
   "execution_count": 16,
   "metadata": {},
   "outputs": [],
   "source": [
    "def quicksort(array):\n",
    "    if len(array) < 2:\n",
    "        return array\n",
    "    idx = 0\n",
    "    pivot = array[idx]\n",
    "    left, right = [], []\n",
    "    while idx < len(array) - 1:\n",
    "        idx += 1\n",
    "        if array[idx] < pivot:\n",
    "            left.append(array[idx])\n",
    "        else:\n",
    "            right.append(array[idx])\n",
    "    return quicksort(left) + [pivot] + quicksort(right)\n",
    "\n",
    "assert quicksort([4, 2, 9, 1]) == [1, 2, 4, 9]"
   ]
  },
  {
   "cell_type": "code",
   "execution_count": null,
   "metadata": {},
   "outputs": [],
   "source": []
  }
 ],
 "metadata": {
  "kernelspec": {
   "display_name": "Python 3",
   "language": "python",
   "name": "python3"
  },
  "language_info": {
   "codemirror_mode": {
    "name": "ipython",
    "version": 3
   },
   "file_extension": ".py",
   "mimetype": "text/x-python",
   "name": "python",
   "nbconvert_exporter": "python",
   "pygments_lexer": "ipython3",
   "version": "3.5.4"
  }
 },
 "nbformat": 4,
 "nbformat_minor": 2
}
