{
 "cells": [
  {
   "cell_type": "code",
   "execution_count": 3,
   "metadata": {},
   "outputs": [],
   "source": [
    "def merge_sort(array):\n",
    "    if len(array) < 2:\n",
    "        return array\n",
    "    middle = len(array) // 2\n",
    "    left, right = array[:middle], array[middle:]\n",
    "    sorted_left, sorted_right = merge_sort(left), merge_sort(right)\n",
    "    return merge(sorted_left, sorted_right)\n",
    "\n",
    "def merge(sorted_left, sorted_right):\n",
    "    res = []\n",
    "    left_idx = 0\n",
    "    right_idx = 0\n",
    "    while left_idx < len(sorted_left) and right_idx < len(sorted_right):\n",
    "        if sorted_left[left_idx] < sorted_right[right_idx]:\n",
    "            res.append(sorted_left[left_idx])\n",
    "            left_idx += 1\n",
    "        else:\n",
    "            res.append(sorted_right[right_idx])\n",
    "            right_idx += 1\n",
    "    if left_idx < len(sorted_left):\n",
    "        res.extend(sorted_left[left_idx:])\n",
    "    if right_idx < len(sorted_right):\n",
    "        res.extend(sorted_right[right_idx:])\n",
    "    return res"
   ]
  },
  {
   "cell_type": "code",
   "execution_count": 5,
   "metadata": {},
   "outputs": [],
   "source": [
    "assert merge_sort([3, 2, 6, 5, 8, 1]) == [1, 2, 3, 5, 6, 8]"
   ]
  },
  {
   "cell_type": "code",
   "execution_count": null,
   "metadata": {},
   "outputs": [],
   "source": []
  }
 ],
 "metadata": {
  "kernelspec": {
   "display_name": "Python 3",
   "language": "python",
   "name": "python3"
  },
  "language_info": {
   "codemirror_mode": {
    "name": "ipython",
    "version": 3
   },
   "file_extension": ".py",
   "mimetype": "text/x-python",
   "name": "python",
   "nbconvert_exporter": "python",
   "pygments_lexer": "ipython3",
   "version": "3.5.4"
  }
 },
 "nbformat": 4,
 "nbformat_minor": 2
}
