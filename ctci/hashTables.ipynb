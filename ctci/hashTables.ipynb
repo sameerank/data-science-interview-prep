{
 "cells": [
  {
   "cell_type": "markdown",
   "metadata": {},
   "source": [
    "## Hash table\n",
    "\n",
    "Let's code up a hash table! But first, we'll need a linked list! Let's use a singly linked list. This means that nodes only know their own data and a pointer to the next node."
   ]
  },
  {
   "cell_type": "code",
   "execution_count": 91,
   "metadata": {},
   "outputs": [],
   "source": [
    "class SinglyLinkedListNode:\n",
    "    def __init__(self, key, val):\n",
    "        self.key = key\n",
    "        self.val = val\n",
    "        self.next = None\n",
    "\n",
    "class LinkedList:\n",
    "    def __init__(self, root_node):\n",
    "        self.root_node = root_node\n",
    "    \n",
    "    def get_val(self, key, curr_node=None):\n",
    "        if curr_node is None:\n",
    "            curr_node = self.root_node\n",
    "        if curr_node.key == key:\n",
    "            return curr_node.val\n",
    "        if curr_node.next is None:\n",
    "            return None\n",
    "        return self.get_val(key, curr_node.next)\n",
    "    \n",
    "    def set_val(self, key, val, curr_node=None):\n",
    "        if curr_node is None:\n",
    "            curr_node = self.root_node\n",
    "        if curr_node.key == key:\n",
    "            self.val = val\n",
    "        if curr_node.next is None:\n",
    "            new_node = SinglyLinkedListNode(key, val)\n",
    "            curr_node.next = new_node\n",
    "            return val\n",
    "        self.set_val(key, val, curr_node.next)\n",
    "        \n",
    "    def del_val(self, key, curr_node=None):\n",
    "        if curr_node is None:\n",
    "            curr_node = self.root_node\n",
    "        if curr_node.key == key:\n",
    "            return None\n",
    "        if curr_node.next is None:\n",
    "            return self.root_node\n",
    "        if curr_node.next.key == key:\n",
    "            # To delete the next node, we'll just set next to be the node after\n",
    "            curr_node.next = curr_node.next.next"
   ]
  },
  {
   "cell_type": "code",
   "execution_count": 92,
   "metadata": {},
   "outputs": [],
   "source": [
    "import numpy as np\n",
    "\n",
    "class HashTable:\n",
    "    def __init__(self, size):\n",
    "        self.size = size\n",
    "        self.map = np.empty(self.size, dtype=object)\n",
    "    \n",
    "    def set_val(self, key, val):\n",
    "        hash_val = hash(key)\n",
    "        idx = hash_val % self.size\n",
    "        if self.map[idx] is None:\n",
    "            self.map[idx] = LinkedList(SinglyLinkedListNode(key, val))\n",
    "            return key, val\n",
    "        linked_list = self.map[idx]\n",
    "        return linked_list.set_val(key, val)\n",
    "\n",
    "    def get_val(self, key):\n",
    "        hash_val = hash(key)\n",
    "        idx = hash_val % self.size\n",
    "        if self.map[idx] is None:\n",
    "            return None\n",
    "        linked_list = self.map[idx]\n",
    "        return linked_list.get_val(key)\n",
    "    \n",
    "    def del_val(self, key):\n",
    "        hash_val = hash(key)\n",
    "        idx = hash_val % self.size\n",
    "        if self.map[idx] is None:\n",
    "            return None\n",
    "        linked_list = self.map[idx]\n",
    "        linked_list.del_val(key)"
   ]
  },
  {
   "cell_type": "code",
   "execution_count": 113,
   "metadata": {},
   "outputs": [
    {
     "name": "stderr",
     "output_type": "stream",
     "text": [
      "....\n",
      "----------------------------------------------------------------------\n",
      "Ran 4 tests in 0.004s\n",
      "\n",
      "OK\n"
     ]
    }
   ],
   "source": [
    "import unittest\n",
    "\n",
    "class TestHashTable(unittest.TestCase):\n",
    "    def setUp(self):\n",
    "        self.hash_table = HashTable(5)\n",
    "        self.hash_table.set_val('cat', 'food')\n",
    "        self.hash_table.set_val('dog', 'house')\n",
    "        self.hash_table.set_val('bird', 'cage')\n",
    "    \n",
    "    def test_get(self):\n",
    "        self.assertEqual(self.hash_table.get_val('cat'), 'food')\n",
    "        self.assertEqual(self.hash_table.get_val('dog'), 'house')\n",
    "        self.assertEqual(self.hash_table.get_val('bird'), 'cage')\n",
    "\n",
    "    def test_del(self):\n",
    "        self.hash_table.del_val('dog')\n",
    "        self.assertEqual(self.hash_table.get_val('cat'), 'food')\n",
    "        self.assertIsNone(self.hash_table.get_val('dog'))\n",
    "        self.assertEqual(self.hash_table.get_val('bird'), 'cage')\n",
    "\n",
    "if __name__ == '__main__':\n",
    "    unittest.main(argv=['Ignore first argument'], exit=False)"
   ]
  },
  {
   "cell_type": "markdown",
   "metadata": {},
   "source": [
    "#### And here's the question for CTCI\n",
    "\n",
    "Given the words in the magazine and the words in the ransom note, print Yes if he can replicate his ransom note exactly using whole words from the magazine; otherwise, print No."
   ]
  },
  {
   "cell_type": "code",
   "execution_count": 115,
   "metadata": {},
   "outputs": [],
   "source": [
    "from collections import Counter\n",
    "def ransom_note(magazine, ransom):\n",
    "    magazine_counts = Counter(magazine)\n",
    "    for word in ransom:\n",
    "        if word in magazine_counts and magazine_counts[word] > 0:\n",
    "            magazine_counts[word] -= 1\n",
    "        else:\n",
    "            return False\n",
    "    return True"
   ]
  },
  {
   "cell_type": "code",
   "execution_count": 116,
   "metadata": {},
   "outputs": [
    {
     "name": "stderr",
     "output_type": "stream",
     "text": [
      "....\n",
      "----------------------------------------------------------------------\n",
      "Ran 4 tests in 0.004s\n",
      "\n",
      "OK\n"
     ]
    }
   ],
   "source": [
    "class TestRansomNote(unittest.TestCase):\n",
    "    def test_yes(self):\n",
    "        magazine = 'give me one grand today night'.split(\" \")\n",
    "        ransom = 'give one grand today'.split(\" \")\n",
    "        self.assertTrue(ransom_note(magazine, ransom))\n",
    "\n",
    "    def test_no(self):\n",
    "        magazine = 'two times three is not four'.split(\" \")\n",
    "        ransom = 'two times two is four'.split(\" \")\n",
    "        self.assertFalse(ransom_note(magazine, ransom))\n",
    "\n",
    "if __name__ == '__main__':\n",
    "    unittest.main(argv=['Ignore first argument'], exit=False)"
   ]
  },
  {
   "cell_type": "code",
   "execution_count": null,
   "metadata": {},
   "outputs": [],
   "source": []
  }
 ],
 "metadata": {
  "kernelspec": {
   "display_name": "Python 3",
   "language": "python",
   "name": "python3"
  },
  "language_info": {
   "codemirror_mode": {
    "name": "ipython",
    "version": 3
   },
   "file_extension": ".py",
   "mimetype": "text/x-python",
   "name": "python",
   "nbconvert_exporter": "python",
   "pygments_lexer": "ipython3",
   "version": "3.5.4"
  }
 },
 "nbformat": 4,
 "nbformat_minor": 2
}
