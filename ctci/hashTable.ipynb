{
 "cells": [
  {
   "cell_type": "markdown",
   "metadata": {},
   "source": [
    "## Hash table\n",
    "\n",
    "Let's code up a hash table! But first, we'll need a linked list! Let's use a singly linked list. This means that nodes only know their own data and a pointer to the next node."
   ]
  },
  {
   "cell_type": "code",
   "execution_count": 72,
   "metadata": {},
   "outputs": [],
   "source": [
    "class SinglyLinkedListNode:\n",
    "    def __init__(self, key, val):\n",
    "        self.key = key\n",
    "        self.val = val\n",
    "        self.next = None\n",
    "\n",
    "class LinkedList:\n",
    "    def __init__(self, root_node):\n",
    "        self.root_node = root_node\n",
    "    \n",
    "    def get_val(self, key, curr_node=None):\n",
    "        if curr_node is None:\n",
    "            curr_node = self.root_node\n",
    "        if curr_node.key == key:\n",
    "            return curr_node.val\n",
    "        if curr_node.next is None:\n",
    "            return None\n",
    "        return self.get_val(key, curr_node.next)\n",
    "    \n",
    "    def set_val(self, key, val, curr_node=None):\n",
    "        if curr_node is None:\n",
    "            curr_node = self.root_node\n",
    "        if curr_node.key == key:\n",
    "            self.val = val\n",
    "        if curr_node.next is None:\n",
    "            new_node = SinglyLinkedListNode(key, val)\n",
    "            curr_node.next = new_node\n",
    "            return val\n",
    "        self.set_val(key, val, curr_node.next)"
   ]
  },
  {
   "cell_type": "code",
   "execution_count": 75,
   "metadata": {},
   "outputs": [],
   "source": [
    "import numpy as np\n",
    "\n",
    "class HashTable:\n",
    "    def __init__(self, size):\n",
    "        self.size = size\n",
    "        self.map = np.empty(self.size, dtype=object)\n",
    "    \n",
    "    def set_val(self, key, val):\n",
    "        hash_val = hash(key)\n",
    "        idx = hash_val % self.size\n",
    "        if self.map[idx] is None:\n",
    "            self.map[idx] = LinkedList(SinglyLinkedListNode(key, val))\n",
    "            return key, val\n",
    "        linked_list = self.map[idx]\n",
    "        return linked_list.set_val(key, val)\n",
    "\n",
    "    def get_val(self, key):\n",
    "        hash_val = hash(key)\n",
    "        idx = hash_val % self.size\n",
    "        if self.map[idx] is None:\n",
    "            return None\n",
    "        linked_list = self.map[idx]\n",
    "        return linked_list.get_val(key)"
   ]
  },
  {
   "cell_type": "code",
   "execution_count": 76,
   "metadata": {},
   "outputs": [
    {
     "data": {
      "text/plain": [
       "'house'"
      ]
     },
     "execution_count": 76,
     "metadata": {},
     "output_type": "execute_result"
    }
   ],
   "source": [
    "ht = HashTable(5)\n",
    "ht.set_val('cat', 'food')\n",
    "ht.set_val('dog', 'house')"
   ]
  },
  {
   "cell_type": "code",
   "execution_count": 77,
   "metadata": {},
   "outputs": [
    {
     "data": {
      "text/plain": [
       "'food'"
      ]
     },
     "execution_count": 77,
     "metadata": {},
     "output_type": "execute_result"
    }
   ],
   "source": [
    "ht.get_val('cat')"
   ]
  },
  {
   "cell_type": "code",
   "execution_count": 78,
   "metadata": {},
   "outputs": [
    {
     "data": {
      "text/plain": [
       "'house'"
      ]
     },
     "execution_count": 78,
     "metadata": {},
     "output_type": "execute_result"
    }
   ],
   "source": [
    "ht.get_val('dog')"
   ]
  },
  {
   "cell_type": "code",
   "execution_count": null,
   "metadata": {},
   "outputs": [],
   "source": []
  }
 ],
 "metadata": {
  "kernelspec": {
   "display_name": "Python 3",
   "language": "python",
   "name": "python3"
  },
  "language_info": {
   "codemirror_mode": {
    "name": "ipython",
    "version": 3
   },
   "file_extension": ".py",
   "mimetype": "text/x-python",
   "name": "python",
   "nbconvert_exporter": "python",
   "pygments_lexer": "ipython3",
   "version": "3.5.4"
  }
 },
 "nbformat": 4,
 "nbformat_minor": 2
}
