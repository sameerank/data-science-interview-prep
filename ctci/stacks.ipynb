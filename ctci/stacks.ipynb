{
 "cells": [
  {
   "cell_type": "markdown",
   "metadata": {},
   "source": [
    "## Let's make a stack"
   ]
  },
  {
   "cell_type": "code",
   "execution_count": 37,
   "metadata": {},
   "outputs": [],
   "source": [
    "class Stack:\n",
    "    def __init__(self):\n",
    "        self.top = None\n",
    "\n",
    "    class Node:\n",
    "        def __init__(self, data):\n",
    "            self.data = data\n",
    "            self.next = None\n",
    "    \n",
    "    def is_empty(self):\n",
    "        return self.top is None\n",
    "\n",
    "    def peek(self):\n",
    "        return self.top.data\n",
    "\n",
    "    def push(self, data):\n",
    "        new_node = self.Node(data)\n",
    "        new_node.next = self.top\n",
    "        self.top = new_node\n",
    "    \n",
    "    def pop(self):\n",
    "        data = self.top.data\n",
    "        self.top = self.top.next\n",
    "        return data"
   ]
  },
  {
   "cell_type": "code",
   "execution_count": 38,
   "metadata": {},
   "outputs": [
    {
     "name": "stderr",
     "output_type": "stream",
     "text": [
      ".....\n",
      "----------------------------------------------------------------------\n",
      "Ran 5 tests in 0.003s\n",
      "\n",
      "OK\n"
     ]
    }
   ],
   "source": [
    "import unittest\n",
    "\n",
    "class TestStack(unittest.TestCase):\n",
    "    def setUp(self):\n",
    "        self.s = Stack()\n",
    "    \n",
    "    def test_push(self):\n",
    "        self.s.push('A')\n",
    "        self.assertEqual(self.s.top.data, 'A')\n",
    "\n",
    "    def test_peek(self):\n",
    "        self.s.push('A')\n",
    "        self.assertEqual(self.s.peek(), 'A')\n",
    "\n",
    "    def test_pop(self):\n",
    "        self.s.push('A')\n",
    "        self.assertEqual(self.s.pop(), 'A')\n",
    "        self.s.push('A')\n",
    "        self.s.push('B')\n",
    "        self.assertEqual(self.s.pop(), 'B')\n",
    "        self.assertEqual(self.s.pop(), 'A')\n",
    "\n",
    "if __name__ == '__main__':\n",
    "    unittest.main(argv=['Ignore first argument'], exit=False)"
   ]
  },
  {
   "cell_type": "markdown",
   "metadata": {},
   "source": [
    "## Balancing brackets\n",
    "\n",
    "For each string, return whether or not the string of brackets is balanced on a new line."
   ]
  },
  {
   "cell_type": "code",
   "execution_count": 39,
   "metadata": {},
   "outputs": [],
   "source": [
    "def is_matched(expression):\n",
    "    brackets = {'(': ')', '{': '}', '[': ']' }\n",
    "    stack = Stack()\n",
    "    for v in expression:\n",
    "        try:\n",
    "            stack.push(brackets[v])\n",
    "        except KeyError:\n",
    "            if stack.is_empty() or v != stack.peek():\n",
    "                return False\n",
    "            stack.pop()\n",
    "    if stack.is_empty():\n",
    "        return True\n",
    "    return False"
   ]
  },
  {
   "cell_type": "code",
   "execution_count": 40,
   "metadata": {},
   "outputs": [
    {
     "name": "stderr",
     "output_type": "stream",
     "text": [
      ".....\n",
      "----------------------------------------------------------------------\n",
      "Ran 5 tests in 0.005s\n",
      "\n",
      "OK\n"
     ]
    }
   ],
   "source": [
    "import unittest\n",
    "\n",
    "class TestIsMatched(unittest.TestCase):\n",
    "    def test_matched(self):\n",
    "        self.assertTrue(is_matched('{[()]}'))\n",
    "        self.assertTrue(is_matched('{{[[(())]]}}'))\n",
    "    \n",
    "    def test_not_matched(self):\n",
    "        self.assertFalse(is_matched('{[(])}'))\n",
    "\n",
    "if __name__ == '__main__':\n",
    "    unittest.main(argv=['Ignore first argument'], exit=False)"
   ]
  },
  {
   "cell_type": "code",
   "execution_count": null,
   "metadata": {},
   "outputs": [],
   "source": []
  }
 ],
 "metadata": {
  "kernelspec": {
   "display_name": "Python 3",
   "language": "python",
   "name": "python3"
  },
  "language_info": {
   "codemirror_mode": {
    "name": "ipython",
    "version": 3
   },
   "file_extension": ".py",
   "mimetype": "text/x-python",
   "name": "python",
   "nbconvert_exporter": "python",
   "pygments_lexer": "ipython3",
   "version": "3.5.4"
  }
 },
 "nbformat": 4,
 "nbformat_minor": 2
}
