{
 "cells": [
  {
   "cell_type": "markdown",
   "metadata": {},
   "source": [
    "Let's make a tree first"
   ]
  },
  {
   "cell_type": "code",
   "execution_count": null,
   "metadata": {},
   "outputs": [],
   "source": [
    "class Node:\n",
    "    def __init__(self, data):\n",
    "        self.left = None\n",
    "        self.right = None\n",
    "        self.data = data\n",
    "    \n",
    "    def insert(self, value):\n",
    "        if value <= self.data:\n",
    "            if self.left is None:\n",
    "                self.left = Node(value)\n",
    "            else:\n",
    "                self.left.insert(value)\n",
    "        else:\n",
    "            if self.right is None:\n",
    "                self.right = Node(value)\n",
    "            else:\n",
    "                self.right.insert(value)\n",
    "    \n",
    "    def contains(self, value):\n",
    "        if value == self.data:\n",
    "            return True\n",
    "        elif value < self.data:\n",
    "            if self.left is None:\n",
    "                return False\n",
    "            else:\n",
    "                self.left.contains(value)\n",
    "        else:\n",
    "            if self.right is None:\n",
    "                return False\n",
    "            else:\n",
    "                self.right.contains(value)\n",
    "                \n",
    "    # This is an \"in order\" traveral\n",
    "    def print_in_order(self):\n",
    "        if self.left is not None:\n",
    "            self.left.print_in_order()\n",
    "        print(self.data)\n",
    "        if self.right is not None:\n",
    "            self.right.print_in_order()"
   ]
  }
 ],
 "metadata": {
  "kernelspec": {
   "display_name": "Python 3",
   "language": "python",
   "name": "python3"
  },
  "language_info": {
   "codemirror_mode": {
    "name": "ipython",
    "version": 3
   },
   "file_extension": ".py",
   "mimetype": "text/x-python",
   "name": "python",
   "nbconvert_exporter": "python",
   "pygments_lexer": "ipython3",
   "version": "3.5.4"
  }
 },
 "nbformat": 4,
 "nbformat_minor": 2
}
