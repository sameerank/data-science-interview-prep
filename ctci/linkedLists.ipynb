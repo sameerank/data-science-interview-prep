{
 "cells": [
  {
   "cell_type": "markdown",
   "metadata": {},
   "source": [
    "## Linked lists\n",
    "\n",
    "Let's start with classes for a Node and a simple Linked List that can only be appended to get us started."
   ]
  },
  {
   "cell_type": "code",
   "execution_count": 2,
   "metadata": {},
   "outputs": [],
   "source": [
    "class Node:\n",
    "    def __init__(self, next_ = None):\n",
    "        self.next = next_"
   ]
  },
  {
   "cell_type": "code",
   "execution_count": 8,
   "metadata": {},
   "outputs": [],
   "source": [
    "class LinkedList:\n",
    "    def __init__(self):\n",
    "        self.head = Node()\n",
    "    \n",
    "    def append(self, node):\n",
    "        curr_node = self.head\n",
    "        while curr_node.next is not None:\n",
    "            curr_node = curr_node.next\n",
    "        curr_node.next = node"
   ]
  },
  {
   "cell_type": "markdown",
   "metadata": {},
   "source": [
    "Let's write a function that returns if the linked list has a cycle."
   ]
  },
  {
   "cell_type": "code",
   "execution_count": 25,
   "metadata": {},
   "outputs": [],
   "source": [
    "def has_cycle(head_node):\n",
    "    walker = head_node\n",
    "    runner = head_node.next\n",
    "    while runner != walker:\n",
    "        if (runner is None) or (runner.next is None):\n",
    "            return False\n",
    "        walker = walker.next\n",
    "        runner = runner.next.next\n",
    "    return True"
   ]
  },
  {
   "cell_type": "code",
   "execution_count": 28,
   "metadata": {},
   "outputs": [
    {
     "name": "stderr",
     "output_type": "stream",
     "text": [
      "..\n",
      "----------------------------------------------------------------------\n",
      "Ran 2 tests in 0.002s\n",
      "\n",
      "OK\n"
     ]
    }
   ],
   "source": [
    "import unittest\n",
    "\n",
    "class TestLinkedList(unittest.TestCase):\n",
    "    def setUp(self):\n",
    "        self.ll = LinkedList()\n",
    "        for _ in range(4):\n",
    "            self.ll.append(Node())\n",
    "        self.cycle_ll = LinkedList()\n",
    "        for _ in range(4):\n",
    "            self.cycle_ll.append(Node())\n",
    "        self.cycle_ll.append(cycle_ll.head.next.next)\n",
    "    \n",
    "    def test_has_no_cycle(self):\n",
    "        self.assertFalse(has_cycle(self.ll.head))\n",
    "    \n",
    "    def test_has_cycle(self):\n",
    "        self.assertTrue(has_cycle(self.cycle_ll.head))\n",
    "\n",
    "if __name__ == '__main__':\n",
    "    unittest.main(argv=['Ignore first argument'], exit=False)"
   ]
  },
  {
   "cell_type": "code",
   "execution_count": null,
   "metadata": {},
   "outputs": [],
   "source": []
  }
 ],
 "metadata": {
  "kernelspec": {
   "display_name": "Python 3",
   "language": "python",
   "name": "python3"
  },
  "language_info": {
   "codemirror_mode": {
    "name": "ipython",
    "version": 3
   },
   "file_extension": ".py",
   "mimetype": "text/x-python",
   "name": "python",
   "nbconvert_exporter": "python",
   "pygments_lexer": "ipython3",
   "version": "3.5.4"
  }
 },
 "nbformat": 4,
 "nbformat_minor": 2
}
