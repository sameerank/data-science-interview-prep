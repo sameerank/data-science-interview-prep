{
 "cells": [
  {
   "cell_type": "markdown",
   "metadata": {},
   "source": [
    "## Queues"
   ]
  },
  {
   "cell_type": "code",
   "execution_count": 1,
   "metadata": {},
   "outputs": [],
   "source": [
    "# Let's start with a stack\n",
    "class Stack:\n",
    "    def __init__(self):\n",
    "        self.top = None\n",
    "\n",
    "    class Node:\n",
    "        def __init__(self, data):\n",
    "            self.data = data\n",
    "            self.next = None\n",
    "    \n",
    "    def is_empty(self):\n",
    "        return self.top is None\n",
    "\n",
    "    def peek(self):\n",
    "        return self.top.data\n",
    "\n",
    "    def push(self, data):\n",
    "        new_node = self.Node(data)\n",
    "        new_node.next = self.top\n",
    "        self.top = new_node\n",
    "    \n",
    "    def pop(self):\n",
    "        data = self.top.data\n",
    "        self.top = self.top.next\n",
    "        return data"
   ]
  },
  {
   "cell_type": "markdown",
   "metadata": {},
   "source": [
    "## A queue using two stacks"
   ]
  },
  {
   "cell_type": "code",
   "execution_count": 3,
   "metadata": {},
   "outputs": [],
   "source": [
    "class Queue:\n",
    "    def __init__(self):\n",
    "        self.s1 = Stack()\n",
    "        self.s2 = Stack()\n",
    "    \n",
    "    def is_empty(self):\n",
    "        return self.s1.is_empty() is None and self.s2.is_empty() is None\n",
    "    \n",
    "    def peek(self):\n",
    "        if self.s2.is_empty():\n",
    "            while not self.s1.is_empty():\n",
    "                self.s2.push(self.s1.pop())\n",
    "        return self.s2.peek()\n",
    "    \n",
    "    def put(self, data):\n",
    "        self.s1.push(data)\n",
    "    \n",
    "    def pop(self):\n",
    "        if self.s2.is_empty():\n",
    "            while not self.s1.is_empty():\n",
    "                self.s2.push(self.s1.pop())\n",
    "        return self.s2.pop()"
   ]
  },
  {
   "cell_type": "code",
   "execution_count": 4,
   "metadata": {},
   "outputs": [
    {
     "name": "stderr",
     "output_type": "stream",
     "text": [
      "\n",
      "----------------------------------------------------------------------\n",
      "Ran 0 tests in 0.000s\n",
      "\n",
      "OK\n"
     ]
    }
   ],
   "source": [
    "import unittest\n",
    "\n",
    "class QueueTest:\n",
    "    def setUp(self):\n",
    "        self.q = Queue()\n",
    "    \n",
    "    def test_put(self):\n",
    "        self.q.put('A')\n",
    "        self.assertEqual(self.q.s1.top.data, 'A')\n",
    "\n",
    "    def test_peek(self):\n",
    "        self.q.put('A')\n",
    "        self.assertEqual(self.q.peek(), 'A')\n",
    "\n",
    "    def test_pop(self):\n",
    "        self.q.put('A')\n",
    "        self.assertEqual(self.q.pop(), 'A')\n",
    "        self.q.put('A')\n",
    "        self.q.put('B')\n",
    "        self.assertEqual(self.q.pop(), 'A')\n",
    "        self.assertEqual(self.q.pop(), 'B')\n",
    "\n",
    "if __name__ == '__main__':\n",
    "    unittest.main(argv=['Ignore first argument'], exit=False)"
   ]
  },
  {
   "cell_type": "code",
   "execution_count": null,
   "metadata": {},
   "outputs": [],
   "source": []
  }
 ],
 "metadata": {
  "kernelspec": {
   "display_name": "Python 3",
   "language": "python",
   "name": "python3"
  },
  "language_info": {
   "codemirror_mode": {
    "name": "ipython",
    "version": 3
   },
   "file_extension": ".py",
   "mimetype": "text/x-python",
   "name": "python",
   "nbconvert_exporter": "python",
   "pygments_lexer": "ipython3",
   "version": "3.5.4"
  }
 },
 "nbformat": 4,
 "nbformat_minor": 2
}
