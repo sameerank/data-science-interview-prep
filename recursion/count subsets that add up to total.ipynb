{
 "cells": [
  {
   "cell_type": "code",
   "execution_count": 3,
   "metadata": {},
   "outputs": [],
   "source": [
    "def count_subsets(ary, total):\n",
    "    if total == 0:\n",
    "        return 1 # The empty set {}\n",
    "    if total < 0:\n",
    "        return 0\n",
    "    if len(ary) == 0:\n",
    "        return 0\n",
    "    if ary[-1] > total:\n",
    "        return count_subsets(ary[:-1], total)\n",
    "    else:\n",
    "        return count_subsets(ary[:-1], total - ary[-1]) + count_subsets(ary[:-1], total)"
   ]
  },
  {
   "cell_type": "code",
   "execution_count": 6,
   "metadata": {},
   "outputs": [
    {
     "data": {
      "text/plain": [
       "3"
      ]
     },
     "execution_count": 6,
     "metadata": {},
     "output_type": "execute_result"
    }
   ],
   "source": [
    "count_subsets([2, 3, 5, 6, 4], 9)"
   ]
  },
  {
   "cell_type": "code",
   "execution_count": null,
   "metadata": {},
   "outputs": [],
   "source": []
  }
 ],
 "metadata": {
  "kernelspec": {
   "display_name": "Python 3",
   "language": "python",
   "name": "python3"
  },
  "language_info": {
   "codemirror_mode": {
    "name": "ipython",
    "version": 3
   },
   "file_extension": ".py",
   "mimetype": "text/x-python",
   "name": "python",
   "nbconvert_exporter": "python",
   "pygments_lexer": "ipython3",
   "version": "3.5.4"
  }
 },
 "nbformat": 4,
 "nbformat_minor": 2
}
