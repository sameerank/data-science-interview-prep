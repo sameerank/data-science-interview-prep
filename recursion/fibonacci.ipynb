{
 "cells": [
  {
   "cell_type": "code",
   "execution_count": 18,
   "metadata": {},
   "outputs": [],
   "source": [
    "def fibs(n):\n",
    "    if n <= 2:\n",
    "        return 1\n",
    "    return fibs(n-1) + fibs(n-2)"
   ]
  },
  {
   "cell_type": "code",
   "execution_count": 19,
   "metadata": {},
   "outputs": [
    {
     "data": {
      "text/plain": [
       "[1, 1, 2, 3, 5, 8, 13]"
      ]
     },
     "execution_count": 19,
     "metadata": {},
     "output_type": "execute_result"
    }
   ],
   "source": [
    "[fibs(n + 1) for n in range(7)]"
   ]
  },
  {
   "cell_type": "code",
   "execution_count": 31,
   "metadata": {},
   "outputs": [],
   "source": [
    "def fibs_dynamic(n, memo=None):\n",
    "    if memo is None:\n",
    "        memo = [None] * n\n",
    "    if memo[n - 1] is not None:\n",
    "        return memo[n - 1]\n",
    "    if n <= 2:\n",
    "        res = 1\n",
    "    else:\n",
    "        res = fibs_dynamic(n-1, memo) + fibs_dynamic(n-2, memo)\n",
    "    memo[n - 1] = res\n",
    "    return res"
   ]
  },
  {
   "cell_type": "code",
   "execution_count": 32,
   "metadata": {},
   "outputs": [
    {
     "data": {
      "text/plain": [
       "[1, 1, 2, 3, 5, 8, 13]"
      ]
     },
     "execution_count": 32,
     "metadata": {},
     "output_type": "execute_result"
    }
   ],
   "source": [
    "[fibs_dynamic(n + 1) for n in range(7)]"
   ]
  },
  {
   "cell_type": "code",
   "execution_count": 54,
   "metadata": {},
   "outputs": [],
   "source": [
    "def fibs_bottom_up(n):\n",
    "    res = [None] * n\n",
    "    if n >= 1:\n",
    "        res[0] = 1\n",
    "    if n >= 2:\n",
    "        res[1] = 1\n",
    "    if n <= 2:\n",
    "        return res[n - 1]\n",
    "    for curr_n in range(2, n):\n",
    "        res[curr_n] = res[curr_n - 1] + res[curr_n - 2]\n",
    "    return res[-1]"
   ]
  },
  {
   "cell_type": "code",
   "execution_count": 55,
   "metadata": {},
   "outputs": [
    {
     "data": {
      "text/plain": [
       "[1, 1, 2, 3, 5, 8, 13]"
      ]
     },
     "execution_count": 55,
     "metadata": {},
     "output_type": "execute_result"
    }
   ],
   "source": [
    "[fibs_bottom_up(n + 1) for n in range(7)]"
   ]
  },
  {
   "cell_type": "code",
   "execution_count": null,
   "metadata": {},
   "outputs": [],
   "source": []
  }
 ],
 "metadata": {
  "kernelspec": {
   "display_name": "Python 3",
   "language": "python",
   "name": "python3"
  },
  "language_info": {
   "codemirror_mode": {
    "name": "ipython",
    "version": 3
   },
   "file_extension": ".py",
   "mimetype": "text/x-python",
   "name": "python",
   "nbconvert_exporter": "python",
   "pygments_lexer": "ipython3",
   "version": "3.5.4"
  }
 },
 "nbformat": 4,
 "nbformat_minor": 2
}
